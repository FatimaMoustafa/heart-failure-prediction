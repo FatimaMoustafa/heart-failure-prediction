{
 "cells": [
  {
   "cell_type": "code",
   "execution_count": 1,
   "id": "1f14eb7c",
   "metadata": {},
   "outputs": [
    {
     "name": "stderr",
     "output_type": "stream",
     "text": [
      "c:\\Users\\HM\\AppData\\Local\\Programs\\Python\\Python313\\Lib\\site-packages\\tqdm\\auto.py:21: TqdmWarning: IProgress not found. Please update jupyter and ipywidgets. See https://ipywidgets.readthedocs.io/en/stable/user_install.html\n",
      "  from .autonotebook import tqdm as notebook_tqdm\n"
     ]
    }
   ],
   "source": [
    "import gradio as gr\n",
    "import pandas as pd\n",
    "import pickle\n",
    "from sklearn.metrics import accuracy_score"
   ]
  },
  {
   "cell_type": "code",
   "execution_count": 3,
   "id": "2334ce58",
   "metadata": {},
   "outputs": [],
   "source": [
    "with open(\"random_forest_model.pkl\", \"rb\") as f:\n",
    "    random_forest_model = pickle.load(f)\n",
    "\n",
    "with open(\"mlp_model.pkl\", \"rb\") as f:\n",
    "    mlp_model = pickle.load(f)\n",
    "\n",
    "with open(\"scaler.pkl\", \"rb\") as f:\n",
    "    scaler = pickle.load(f)\n",
    "\n",
    "with open(\"features_test_scaled.pkl\", \"rb\") as f:\n",
    "    features_test_scaled = pickle.load(f)\n",
    "\n",
    "with open(\"target_test.pkl\", \"rb\") as f:\n",
    "    target_test = pickle.load(f)"
   ]
  },
  {
   "cell_type": "code",
   "execution_count": 4,
   "id": "47a6b154",
   "metadata": {},
   "outputs": [],
   "source": [
    "random_forest_accuracy = accuracy_score(target_test, random_forest_model.predict(features_test_scaled))\n",
    "mlp_accuracy = accuracy_score(target_test, mlp_model.predict(features_test_scaled))\n",
    "\n",
    "\n",
    "best_model = random_forest_model if random_forest_accuracy >= mlp_accuracy else mlp_model\n",
    "best_model_name = \"Random Forest\" if best_model == random_forest_model else \"MLP Neural Network\"\n"
   ]
  },
  {
   "cell_type": "code",
   "execution_count": 5,
   "id": "1342411d",
   "metadata": {},
   "outputs": [
    {
     "name": "stdout",
     "output_type": "stream",
     "text": [
      "* Running on local URL:  http://127.0.0.1:7860\n",
      "* To create a public link, set `share=True` in `launch()`.\n"
     ]
    },
    {
     "data": {
      "text/html": [
       "<div><iframe src=\"http://127.0.0.1:7860/\" width=\"100%\" height=\"500\" allow=\"autoplay; camera; microphone; clipboard-read; clipboard-write;\" frameborder=\"0\" allowfullscreen></iframe></div>"
      ],
      "text/plain": [
       "<IPython.core.display.HTML object>"
      ]
     },
     "metadata": {},
     "output_type": "display_data"
    },
    {
     "data": {
      "text/plain": []
     },
     "execution_count": 5,
     "metadata": {},
     "output_type": "execute_result"
    },
    {
     "name": "stdout",
     "output_type": "stream",
     "text": [
      "Created dataset file at: .gradio\\flagged\\dataset1.csv\n"
     ]
    }
   ],
   "source": [
    "columns = [\n",
    "    'age',\n",
    "    'anaemia',\n",
    "    'creatinine_phosphokinase',\n",
    "    'diabetes',\n",
    "    'ejection_fraction',\n",
    "    'high_blood_pressure',\n",
    "    'platelets',\n",
    "    'serum_creatinine',\n",
    "    'serum_sodium',\n",
    "    'sex',\n",
    "    'smoking',\n",
    "    'time'    \n",
    "]\n",
    "\n",
    "def predict_heart_failure(*args):\n",
    "    input_data = pd.DataFrame([args], columns=columns)\n",
    "    input_data_scaled = scaler.transform(input_data)\n",
    "    prediction = best_model.predict(input_data_scaled)[0]\n",
    "    \n",
    "    return \"Heart Failure\" if prediction == 1 else \"No Heart Failure\"\n",
    "\n",
    "inputs = [\n",
    "    gr.Number(label=\"Age\"),\n",
    "    gr.Radio([0, 1], label=\"Anaemia(0 -> No, 1 -> Yes)\"),\n",
    "    gr.Number(label=\"Creatinine Phosphokinase\"),\n",
    "    gr.Radio([0, 1], label=\"Diabetes(0 -> No, 1 -> Yes)\"),\n",
    "    gr.Number(label=\"Ejection Fraction\"),\n",
    "    gr.Radio([0, 1], label=\"High Blood Pressure(0 -> No, 1 -> Yes)\"),\n",
    "    gr.Number(label=\"Platelets\"),\n",
    "    gr.Number(label=\"Serum Creatinine\"),\n",
    "    gr.Number(label=\"Serum Sodium\"),\n",
    "    gr.Radio([0, 1], label=\"Sex(0 -> Female, 1 -> Male)\"),\n",
    "    gr.Radio([0, 1], label=\"Smoking(0 -> No, 1 -> Yes)\"),\n",
    "    gr.Number(label=\"Follow-up Time (days)\")\n",
    "]\n",
    "\n",
    "gr.Interface(\n",
    "    fn=predict_heart_failure,\n",
    "    inputs=inputs,\n",
    "    outputs=\"text\",\n",
    "    title=\"Heart Failure Prediction\"\n",
    ").launch()\n"
   ]
  }
 ],
 "metadata": {
  "kernelspec": {
   "display_name": "Python 3",
   "language": "python",
   "name": "python3"
  },
  "language_info": {
   "codemirror_mode": {
    "name": "ipython",
    "version": 3
   },
   "file_extension": ".py",
   "mimetype": "text/x-python",
   "name": "python",
   "nbconvert_exporter": "python",
   "pygments_lexer": "ipython3",
   "version": "3.13.5"
  }
 },
 "nbformat": 4,
 "nbformat_minor": 5
}
